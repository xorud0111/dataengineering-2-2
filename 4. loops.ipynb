{
 "cells": [
  {
   "cell_type": "code",
   "execution_count": 10,
   "id": "014c90fd-97e6-475b-b034-c5c064fa4606",
   "metadata": {},
   "outputs": [
    {
     "name": "stdout",
     "output_type": "stream",
     "text": [
      "1\n",
      "2\n",
      "3\n",
      "4\n",
      "5\n",
      "0\n",
      "1\n",
      "2\n",
      "3\n",
      "4\n",
      "5\n",
      "6\n",
      "7\n",
      "8\n",
      "9\n"
     ]
    }
   ],
   "source": [
    "\"\"\"\n",
    "for Loops\n",
    "\"\"\"\n",
    "nums = [1, 2, 3, 4, 5]\n",
    "\n",
    "for num in nums:\n",
    "    print(num)\n",
    "\n",
    "for i in range(10):\n",
    "    print(i)"
   ]
  },
  {
   "cell_type": "code",
   "execution_count": 16,
   "id": "cb19b30b-d008-4f5e-9eaf-49ebc452bff6",
   "metadata": {},
   "outputs": [
    {
     "name": "stdout",
     "output_type": "stream",
     "text": [
      "1\n",
      "3\n",
      "4\n",
      "5\n"
     ]
    }
   ],
   "source": [
    "\"\"\"\n",
    "continue Keyword\n",
    "\"\"\"\n",
    "nums = [1, -2, 3, 4, 5]\n",
    "\n",
    "for num in nums:\n",
    "    if num < 0:\n",
    "        continue\n",
    "    print(num)"
   ]
  },
  {
   "cell_type": "code",
   "execution_count": 23,
   "id": "b41528a6-6179-48e3-87f2-ce91dea94449",
   "metadata": {},
   "outputs": [
    {
     "name": "stdout",
     "output_type": "stream",
     "text": [
      "stage1is complete.\n",
      "stage2is complete.\n",
      "stage3에서 패배ㅠㅠ\n"
     ]
    }
   ],
   "source": [
    "\"\"\"\n",
    "break Keyword\n",
    "\"\"\"\n",
    "game_plays = ['stage1', 'stage2', 'stage3', 'stage4', 'stage5']\n",
    "\n",
    "for play in game_plays:\n",
    "    if play == 'stage3':\n",
    "        print(play + \"에서 패배ㅠㅠ\")\n",
    "        break\n",
    "    print(play + 'is complete.')    "
   ]
  },
  {
   "cell_type": "code",
   "execution_count": 25,
   "id": "1596902b-592d-4dd8-838b-20c7da6a23c2",
   "metadata": {},
   "outputs": [
    {
     "name": "stdout",
     "output_type": "stream",
     "text": [
      "[1, 2, 3, 4, 5, 6, 7, 8, 9, 10]\n"
     ]
    }
   ],
   "source": [
    "\"\"\"\n",
    "List Comprehension\n",
    "\"\"\"\n",
    "one_to_ten = [i + 1 for i in range(10)]\n",
    "print(one_to_ten)"
   ]
  },
  {
   "cell_type": "code",
   "execution_count": 28,
   "id": "427425c1-ddc3-4dc3-bd71-cd7187bf8d54",
   "metadata": {},
   "outputs": [
    {
     "name": "stdout",
     "output_type": "stream",
     "text": [
      "['해리케인', '은돔벨레']\n"
     ]
    }
   ],
   "source": [
    "\"\"\"\n",
    "List Comprehension including conditions\n",
    "\"\"\"\n",
    "hotspurs = [['손흥민', 'A+'], ['해리케인', 'F'], ['은돔벨레', 'F'],\n",
    "            ['델리일리', 'B'], ['루카스', 'B'], ['이메르송', 'D']]\n",
    "\n",
    "poors = [player[0] for player in hotspurs if player[1] == 'F']\n",
    "print(poors)"
   ]
  },
  {
   "cell_type": "code",
   "execution_count": 34,
   "id": "97ecced1-575e-4ead-9068-eee17febff6b",
   "metadata": {},
   "outputs": [
    {
     "name": "stdout",
     "output_type": "stream",
     "text": [
      "1 x 1 = 1\n",
      "1 x 2 = 2\n",
      "1 x 3 = 3\n",
      "1 x 4 = 4\n",
      "1 x 5 = 5\n",
      "1 x 6 = 6\n",
      "1 x 7 = 7\n",
      "1 x 8 = 8\n",
      "1 x 9 = 9\n",
      "2 x 1 = 2\n",
      "2 x 2 = 4\n",
      "2 x 3 = 6\n",
      "2 x 4 = 8\n",
      "2 x 5 = 10\n",
      "2 x 6 = 12\n",
      "2 x 7 = 14\n",
      "2 x 8 = 16\n",
      "2 x 9 = 18\n",
      "3 x 1 = 3\n",
      "3 x 2 = 6\n",
      "3 x 3 = 9\n",
      "3 x 4 = 12\n",
      "3 x 5 = 15\n",
      "3 x 6 = 18\n",
      "3 x 7 = 21\n",
      "3 x 8 = 24\n",
      "3 x 9 = 27\n",
      "4 x 1 = 4\n",
      "4 x 2 = 8\n",
      "4 x 3 = 12\n",
      "4 x 4 = 16\n",
      "4 x 5 = 20\n",
      "4 x 6 = 24\n",
      "4 x 7 = 28\n",
      "4 x 8 = 32\n",
      "4 x 9 = 36\n",
      "5 x 1 = 5\n",
      "5 x 2 = 10\n",
      "5 x 3 = 15\n",
      "5 x 4 = 20\n",
      "5 x 5 = 25\n",
      "5 x 6 = 30\n",
      "5 x 7 = 35\n",
      "5 x 8 = 40\n",
      "5 x 9 = 45\n",
      "6 x 1 = 6\n",
      "6 x 2 = 12\n",
      "6 x 3 = 18\n",
      "6 x 4 = 24\n",
      "6 x 5 = 30\n",
      "6 x 6 = 36\n",
      "6 x 7 = 42\n",
      "6 x 8 = 48\n",
      "6 x 9 = 54\n",
      "7 x 1 = 7\n",
      "7 x 2 = 14\n",
      "7 x 3 = 21\n",
      "7 x 4 = 28\n",
      "7 x 5 = 35\n",
      "7 x 6 = 42\n",
      "7 x 7 = 49\n",
      "7 x 8 = 56\n",
      "7 x 9 = 63\n",
      "8 x 1 = 8\n",
      "8 x 2 = 16\n",
      "8 x 3 = 24\n",
      "8 x 4 = 32\n",
      "8 x 5 = 40\n",
      "8 x 6 = 48\n",
      "8 x 7 = 56\n",
      "8 x 8 = 64\n",
      "8 x 9 = 72\n",
      "9 x 1 = 9\n",
      "9 x 2 = 18\n",
      "9 x 3 = 27\n",
      "9 x 4 = 36\n",
      "9 x 5 = 45\n",
      "9 x 6 = 54\n",
      "9 x 7 = 63\n",
      "9 x 8 = 72\n",
      "9 x 9 = 81\n"
     ]
    }
   ],
   "source": [
    "\"\"\"\n",
    "Nested Loops : 중첩 루프\n",
    "\"\"\"\n",
    "# 구구단 출력 프로그램\n",
    "one_to_nine = [i + 1 for i in range(9)]\n",
    "\n",
    "for i in one_to_nine:\n",
    "    for j in one_to_nine:\n",
    "        print(\"%d x %d = %d\" % (i, j, i*j))"
   ]
  },
  {
   "cell_type": "code",
   "execution_count": 36,
   "id": "f6adaa4f-4391-4626-bf9f-1a2ead782034",
   "metadata": {},
   "outputs": [
    {
     "name": "stdout",
     "output_type": "stream",
     "text": [
      "김말이\n",
      "김밥\n",
      "배부르다\n"
     ]
    }
   ],
   "source": [
    "\"\"\"\n",
    "While Loops\n",
    "\"\"\"\n",
    "hungry = True\n",
    "foods_on_table = ['김말이', '김밥', '떡볶이']\n",
    "ate_num = 0\n",
    "\n",
    "while ate_num < 2:\n",
    "    print(foods_on_table[ate_num])\n",
    "    ate_num += 1\n",
    "    \n",
    "print('배부르다')"
   ]
  },
  {
   "cell_type": "code",
   "execution_count": null,
   "id": "4b71fa2c-5bce-4930-b9c0-8da4a4aa1321",
   "metadata": {},
   "outputs": [],
   "source": []
  }
 ],
 "metadata": {
  "kernelspec": {
   "display_name": "Python 3",
   "language": "python",
   "name": "python3"
  },
  "language_info": {
   "codemirror_mode": {
    "name": "ipython",
    "version": 3
   },
   "file_extension": ".py",
   "mimetype": "text/x-python",
   "name": "python",
   "nbconvert_exporter": "python",
   "pygments_lexer": "ipython3",
   "version": "3.8.8"
  }
 },
 "nbformat": 4,
 "nbformat_minor": 5
}
