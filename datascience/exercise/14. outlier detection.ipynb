{
 "cells": [
  {
   "cell_type": "code",
   "execution_count": 48,
   "id": "e2817141-1ced-4289-98aa-d0e85705335c",
   "metadata": {},
   "outputs": [],
   "source": [
    "import pandas as pd\n",
    "import numpy as np\n",
    "from matplotlib import pyplot as plt\n",
    "import seaborn as sns"
   ]
  },
  {
   "cell_type": "code",
   "execution_count": 8,
   "id": "eb741dd8-3afb-4e4a-98ba-694e5aabf532",
   "metadata": {},
   "outputs": [],
   "source": [
    "def parser(x):\n",
    "    return datetime.strptime(x, '%Y-%m-%d %H:%M:%S')\n",
    "\n",
    "input_file = './data/AirQualityUCI_refined.csv'\n",
    "\n",
    "df = pd.read_csv(input_file,\n",
    "                 index_col=[0],\n",
    "                 parse_dates=[0],\n",
    "                 date_parser=parser)"
   ]
  },
  {
   "cell_type": "code",
   "execution_count": 10,
   "id": "d60c1555-ca03-4df7-a79f-8ef7ad61bd24",
   "metadata": {},
   "outputs": [
    {
     "name": "stdout",
     "output_type": "stream",
     "text": [
      "Using matplotlib backend: Qt5Agg\n"
     ]
    }
   ],
   "source": [
    "%matplotlib\n",
    "from matplotlib import pyplot as plt\n",
    "import seaborn; seaborn.set()  # set plot styles\n",
    "%config InlineBackend.figure_format = 'svg'\n",
    "plt.rcParams['figure.figsize'] = [10, 5]\n",
    "plt.ion() # enable the interactive mode"
   ]
  },
  {
   "cell_type": "code",
   "execution_count": 12,
   "id": "f813d78e-f03b-4c52-962c-bbc3315d62ec",
   "metadata": {},
   "outputs": [
    {
     "data": {
      "text/plain": [
       "<AxesSubplot:xlabel='Datetime'>"
      ]
     },
     "execution_count": 12,
     "metadata": {},
     "output_type": "execute_result"
    }
   ],
   "source": [
    "df['CO(GT)'].plot()"
   ]
  },
  {
   "cell_type": "code",
   "execution_count": 15,
   "id": "2624f48e-f882-4002-8cfb-6fa8cb4e4a2a",
   "metadata": {},
   "outputs": [
    {
     "data": {
      "text/plain": [
       "<matplotlib.legend.Legend at 0x14889643100>"
      ]
     },
     "execution_count": 15,
     "metadata": {},
     "output_type": "execute_result"
    }
   ],
   "source": [
    "co = df['CO(GT)'].copy()\n",
    "co.interpolate(inplace=True)\n",
    "\n",
    "plt.plot(df['CO(GT)'], label='original', zorder=2)\n",
    "plt.plot(co, label='linear interpolation', zorder=1)\n",
    "plt.legend(loc='best')"
   ]
  },
  {
   "cell_type": "code",
   "execution_count": 17,
   "id": "57db8f8b-af7c-45f5-8a89-0fbe629039de",
   "metadata": {},
   "outputs": [
    {
     "data": {
      "text/plain": [
       "Text(0.5, 0, 'CO(GT)')"
      ]
     },
     "execution_count": 17,
     "metadata": {},
     "output_type": "execute_result"
    }
   ],
   "source": [
    "plt.boxplot(co)\n",
    "plt.title(\"Detecting outliers using Boxplot\")\n",
    "plt.xlabel('CO(GT)')"
   ]
  },
  {
   "cell_type": "code",
   "execution_count": 19,
   "id": "6c6d2210-adde-49b2-840e-7d905c235e8b",
   "metadata": {},
   "outputs": [
    {
     "name": "stdout",
     "output_type": "stream",
     "text": [
      "                 CO(GT)  PT08.S1(CO)  PT08.S2(NMHC)   NOx(GT)  PT08.S3(NOx)  \\\n",
      "CO(GT)         1.000000     0.877203       0.914973  0.792557     -0.701703   \n",
      "PT08.S1(CO)    0.877203     1.000000       0.892964  0.713654     -0.771938   \n",
      "PT08.S2(NMHC)  0.914973     0.892964       1.000000  0.704435     -0.796703   \n",
      "NOx(GT)        0.792557     0.713654       0.704435  1.000000     -0.655707   \n",
      "PT08.S3(NOx)  -0.701703    -0.771938      -0.796703 -0.655707      1.000000   \n",
      "NO2(GT)        0.679262     0.641529       0.646245  0.763111     -0.652083   \n",
      "PT08.S4(NO2)   0.639470     0.682881       0.777254  0.233731     -0.538468   \n",
      "PT08.S5(O3)    0.851403     0.899324       0.880578  0.787046     -0.796569   \n",
      "RH             0.040218     0.114606      -0.090380  0.221032     -0.056740   \n",
      "AH             0.065809     0.135324       0.186933 -0.149323     -0.232017   \n",
      "C6H6(GT)       0.845144     0.883795       0.981950  0.626638     -0.735744   \n",
      "\n",
      "                NO2(GT)  PT08.S4(NO2)  PT08.S5(O3)        RH        AH  \\\n",
      "CO(GT)         0.679262      0.639470     0.851403  0.040218  0.065809   \n",
      "PT08.S1(CO)    0.641529      0.682881     0.899324  0.114606  0.135324   \n",
      "PT08.S2(NMHC)  0.646245      0.777254     0.880578 -0.090380  0.186933   \n",
      "NOx(GT)        0.763111      0.233731     0.787046  0.221032 -0.149323   \n",
      "PT08.S3(NOx)  -0.652083     -0.538468    -0.796569 -0.056740 -0.232017   \n",
      "NO2(GT)        1.000000      0.157360     0.708128 -0.091759 -0.335022   \n",
      "PT08.S4(NO2)   0.157360      1.000000     0.591144 -0.032188  0.629641   \n",
      "PT08.S5(O3)    0.708128      0.591144     1.000000  0.124956  0.070751   \n",
      "RH            -0.091759     -0.032188     0.124956  1.000000  0.167971   \n",
      "AH            -0.335022      0.629641     0.070751  0.167971  1.000000   \n",
      "C6H6(GT)       0.544039      0.765731     0.865689 -0.061681  0.167972   \n",
      "\n",
      "               C6H6(GT)  \n",
      "CO(GT)         0.845144  \n",
      "PT08.S1(CO)    0.883795  \n",
      "PT08.S2(NMHC)  0.981950  \n",
      "NOx(GT)        0.626638  \n",
      "PT08.S3(NOx)  -0.735744  \n",
      "NO2(GT)        0.544039  \n",
      "PT08.S4(NO2)   0.765731  \n",
      "PT08.S5(O3)    0.865689  \n",
      "RH            -0.061681  \n",
      "AH             0.167972  \n",
      "C6H6(GT)       1.000000  \n"
     ]
    }
   ],
   "source": [
    "corr_matrix = df.corr()\n",
    "print(corr_matrix)"
   ]
  },
  {
   "cell_type": "code",
   "execution_count": 22,
   "id": "b541f4a0-08f9-40d6-89e6-b35debd66fd9",
   "metadata": {},
   "outputs": [
    {
     "data": {
      "text/plain": [
       "Text(0, 0.5, 'RH')"
      ]
     },
     "execution_count": 22,
     "metadata": {},
     "output_type": "execute_result"
    }
   ],
   "source": [
    "rh = df['RH'].copy().interpolate()\n",
    "\n",
    "plt.scatter(co, rh, s=12, c='black')\n",
    "plt.xlabel('CO(GT)')\n",
    "plt.ylabel('RH')"
   ]
  },
  {
   "cell_type": "code",
   "execution_count": 25,
   "id": "c5cd3021-0276-4fc9-981e-6b4182f9ecfd",
   "metadata": {},
   "outputs": [
    {
     "data": {
      "text/plain": [
       "Text(0, 0.5, 'PT08.S2(NMHC)')"
      ]
     },
     "execution_count": 25,
     "metadata": {},
     "output_type": "execute_result"
    }
   ],
   "source": [
    "nmhc = df['PT08.S2(NMHC)'].copy().interpolate()\n",
    "\n",
    "plt.scatter(co, nmhc, s=12, c='black')\n",
    "plt.xlabel('CO(GT)')\n",
    "plt.ylabel('PT08.S2(NMHC)')"
   ]
  },
  {
   "cell_type": "code",
   "execution_count": 29,
   "id": "91388802-3857-460a-a495-674b95237d01",
   "metadata": {},
   "outputs": [
    {
     "name": "stdout",
     "output_type": "stream",
     "text": [
      "1.1 1.8 2.9\n",
      "5.6 -1.5999999999999996\n",
      "Datetime\n",
      "2004-03-11 19:00:00    6.9\n",
      "2004-03-11 20:00:00    6.1\n",
      "2004-03-12 20:00:00    6.6\n",
      "2004-03-14 20:00:00    5.9\n",
      "2004-03-15 09:00:00    8.1\n",
      "                      ... \n",
      "2005-03-23 19:00:00    6.2\n",
      "2005-03-23 20:00:00    7.2\n",
      "2005-03-24 19:00:00    5.9\n",
      "2005-03-24 20:00:00    7.5\n",
      "2005-03-25 19:00:00    5.7\n",
      "Name: CO(GT), Length: 224, dtype: float64\n"
     ]
    }
   ],
   "source": [
    "# Q1, Q2(median), Q3\n",
    "q1 = co.quantile(0.25)\n",
    "median = co.quantile(0.5)\n",
    "q3 = co.quantile(0.75)\n",
    "print(q1, median, q3)\n",
    "\n",
    "iqr = q3-q1\n",
    "upper_fence = q3 + 1.5*iqr\n",
    "lower_fence = q1 - 1.5*iqr\n",
    "print(upper_fence, lower_fence)\n",
    "\n",
    "outliers = co.loc[(co > upper_fence) | (co < 0)]\n",
    "print(outliers)"
   ]
  },
  {
   "cell_type": "code",
   "execution_count": 35,
   "id": "2322bbdb-e36e-4113-bd38-a2f56c25c08c",
   "metadata": {},
   "outputs": [
    {
     "data": {
      "text/plain": [
       "array([False, False, False, ..., False, False, False])"
      ]
     },
     "execution_count": 35,
     "metadata": {},
     "output_type": "execute_result"
    }
   ],
   "source": [
    "mask = co.index.isin(outliers.index)\n",
    "mask"
   ]
  },
  {
   "cell_type": "code",
   "execution_count": 37,
   "id": "72e89d75-5494-4e50-8c16-cde2f4397df2",
   "metadata": {},
   "outputs": [
    {
     "data": {
      "text/plain": [
       "<matplotlib.legend.Legend at 0x1488ed04dc0>"
      ]
     },
     "execution_count": 37,
     "metadata": {},
     "output_type": "execute_result"
    }
   ],
   "source": [
    "plt.plot(co[~mask], label='normal', color='blue',\n",
    "    marker='o', markersize=3, linestyle='None')\n",
    "plt.plot(outliers, label='outliers', color='red',\n",
    "    marker='x', markersize=3, linestyle='None')\n",
    "plt.legend(loc='best')"
   ]
  },
  {
   "cell_type": "code",
   "execution_count": 39,
   "id": "d773d50f-f00d-4c7d-a4e9-af1500264305",
   "metadata": {},
   "outputs": [
    {
     "name": "stdout",
     "output_type": "stream",
     "text": [
      "Datetime\n",
      "2004-03-11 19:00:00   NaN\n",
      "2004-03-11 20:00:00   NaN\n",
      "2004-03-12 20:00:00   NaN\n",
      "2004-03-14 20:00:00   NaN\n",
      "2004-03-15 09:00:00   NaN\n",
      "                       ..\n",
      "2005-03-23 19:00:00   NaN\n",
      "2005-03-23 20:00:00   NaN\n",
      "2005-03-24 19:00:00   NaN\n",
      "2005-03-24 20:00:00   NaN\n",
      "2005-03-25 19:00:00   NaN\n",
      "Name: CO(GT), Length: 224, dtype: float64\n"
     ]
    },
    {
     "data": {
      "text/plain": [
       "<AxesSubplot:xlabel='Datetime'>"
      ]
     },
     "execution_count": 39,
     "metadata": {},
     "output_type": "execute_result"
    }
   ],
   "source": [
    "co_refined = co.copy()\n",
    "co_refined[mask] = np.nan\n",
    "print(co_refined[mask])\n",
    "co_refined.plot()"
   ]
  },
  {
   "cell_type": "code",
   "execution_count": 41,
   "id": "a33360d8-c000-4a54-8495-773c0e704ec1",
   "metadata": {},
   "outputs": [
    {
     "data": {
      "text/plain": [
       "<AxesSubplot:xlabel='Datetime'>"
      ]
     },
     "execution_count": 41,
     "metadata": {},
     "output_type": "execute_result"
    }
   ],
   "source": [
    "co_refined.interpolate(inplace=True)\n",
    "co_refined.plot()"
   ]
  },
  {
   "cell_type": "code",
   "execution_count": 50,
   "id": "b844dcbb-7410-4a83-915e-c263fc719e88",
   "metadata": {},
   "outputs": [
    {
     "name": "stderr",
     "output_type": "stream",
     "text": [
      "C:\\Users\\Windows10\\anaconda3\\lib\\site-packages\\seaborn\\distributions.py:2557: FutureWarning: `distplot` is a deprecated function and will be removed in a future version. Please adapt your code to use either `displot` (a figure-level function with similar flexibility) or `histplot` (an axes-level function for histograms).\n",
      "  warnings.warn(msg, FutureWarning)\n"
     ]
    },
    {
     "data": {
      "text/plain": [
       "<AxesSubplot:xlabel='CO(GT)', ylabel='Density'>"
      ]
     },
     "execution_count": 50,
     "metadata": {},
     "output_type": "execute_result"
    }
   ],
   "source": [
    "sns.distplot(co)"
   ]
  },
  {
   "cell_type": "code",
   "execution_count": 52,
   "id": "b8cf5db8-cc07-439e-8528-e3a2674b0fa2",
   "metadata": {},
   "outputs": [
    {
     "name": "stdout",
     "output_type": "stream",
     "text": [
      "2.126146200705357 1.4369815748596482\n"
     ]
    }
   ],
   "source": [
    "mean = np.mean(co)\n",
    "std = np.std(co)\n",
    "print(mean, std)"
   ]
  },
  {
   "cell_type": "code",
   "execution_count": 55,
   "id": "b591314f-63cb-44ad-b953-68a0f9aef942",
   "metadata": {},
   "outputs": [
    {
     "name": "stdout",
     "output_type": "stream",
     "text": [
      "3.3221398818289734\n",
      "3.113368937755246\n",
      "4.157223658123882\n",
      "4.087633343432639\n",
      "3.0437786230640036\n",
      "3.113368937755246\n",
      "3.8092720846676698\n",
      "3.182959252446488\n",
      "3.113368937755246\n",
      "3.600501140593942\n",
      "3.5309108259027\n",
      "3.0437786230640036\n",
      "3.0437786230640036\n",
      "3.182959252446488\n",
      "3.0437786230640036\n",
      "3.600501140593942\n",
      "3.182959252446488\n",
      "3.7396817699764275\n",
      "3.0437786230640036\n",
      "3.182959252446488\n",
      "3.3917301965202156\n",
      "4.087633343432639\n",
      "3.878862399358912\n",
      "3.2525495671377302\n",
      "4.36599460219761\n",
      "3.2525495671377302\n",
      "4.018043028741397\n",
      "4.36599460219761\n",
      "4.087633343432639\n",
      "4.36599460219761\n",
      "5.131488063801275\n",
      "3.0437786230640036\n",
      "3.113368937755246\n",
      "3.7396817699764275\n",
      "3.2525495671377302\n",
      "4.018043028741397\n",
      "4.087633343432639\n",
      "4.922717119727547\n",
      "3.3917301965202156\n",
      "3.786075313103922\n",
      "4.180420429687629\n",
      "4.574765546271336\n",
      "4.157223658123882\n",
      "4.087633343432639\n",
      "3.113368937755246\n",
      "3.2525495671377302\n",
      "3.9484527140501537\n",
      "5.618620266639971\n",
      "3.113368937755246\n",
      "3.7396817699764275\n",
      "3.5309108259027\n",
      "4.296404287506367\n",
      "4.505175231580093\n",
      "3.3221398818289734\n",
      "3.0437786230640036\n",
      "3.113368937755246\n",
      "3.600501140593942\n",
      "3.600501140593942\n",
      "5.618620266639971\n",
      "6.801655616391093\n",
      "6.523294357626123\n",
      "4.296404287506367\n",
      "3.2525495671377302\n",
      "4.36599460219761\n",
      "3.878862399358912\n",
      "5.54902995194873\n",
      "3.878862399358912\n",
      "4.157223658123882\n",
      "3.113368937755246\n",
      "3.2525495671377302\n",
      "3.7396817699764275\n",
      "3.878862399358912\n",
      "5.061897749110033\n",
      "3.9484527140501537\n",
      "3.113368937755246\n",
      "3.3221398818289734\n",
      "5.409849322566245\n",
      "3.3221398818289734\n",
      "3.6700914552851853\n",
      "4.992307434418791\n",
      "3.6700914552851853\n",
      "3.113368937755246\n",
      "3.600501140593942\n",
      "3.7396817699764275\n",
      "4.505175231580093\n",
      "4.853126805036306\n",
      "4.505175231580093\n",
      "3.113368937755246\n",
      "4.4355849168888515\n",
      "4.574765546271336\n",
      "4.853126805036306\n",
      "3.5309108259027\n",
      "3.113368937755246\n",
      "3.0437786230640036\n",
      "3.3221398818289734\n",
      "4.018043028741397\n",
      "3.182959252446488\n",
      "3.2525495671377302\n",
      "3.182959252446488\n",
      "3.2525495671377302\n",
      "4.505175231580093\n",
      "4.574765546271336\n",
      "3.2525495671377302\n",
      "3.2525495671377302\n",
      "3.182959252446488\n",
      "3.182959252446488\n",
      "4.36599460219761\n",
      "3.461320511211458\n",
      "3.113368937755246\n",
      "3.0437786230640036\n",
      "3.461320511211458\n",
      "3.0437786230640036\n",
      "3.0437786230640036\n",
      "3.6700914552851853\n",
      "3.5309108259027\n",
      "3.7396817699764275\n"
     ]
    }
   ],
   "source": [
    "outliers = []\n",
    "thres = 3\n",
    "\n",
    "for i in co:\n",
    "    z_score = (i-mean) / std\n",
    "    if (np.abs(z_score) > thres):\n",
    "        print(z_score)\n",
    "        outliers.append(i)"
   ]
  },
  {
   "cell_type": "code",
   "execution_count": 57,
   "id": "62ee4c7c-346d-4095-b62c-0750ddc163c8",
   "metadata": {},
   "outputs": [
    {
     "data": {
      "text/plain": [
       "Datetime\n",
       "2004-03-11 19:00:00    6.9\n",
       "2004-03-12 20:00:00    6.6\n",
       "2004-03-15 09:00:00    8.1\n",
       "2004-03-15 19:00:00    8.0\n",
       "2004-03-15 20:00:00    6.5\n",
       "                      ... \n",
       "2005-03-14 19:00:00    6.5\n",
       "2005-03-14 20:00:00    6.5\n",
       "2005-03-15 20:00:00    7.4\n",
       "2005-03-23 20:00:00    7.2\n",
       "2005-03-24 20:00:00    7.5\n",
       "Name: CO(GT), Length: 116, dtype: float64"
      ]
     },
     "execution_count": 57,
     "metadata": {},
     "output_type": "execute_result"
    }
   ],
   "source": [
    "outliers = co.loc[np.abs((co-mean)/std) > 3].copy()\n",
    "outliers"
   ]
  },
  {
   "cell_type": "code",
   "execution_count": 59,
   "id": "30101345-3660-4a34-8e34-2013cc8664c3",
   "metadata": {},
   "outputs": [
    {
     "data": {
      "text/plain": [
       "array([False, False, False, ..., False, False, False])"
      ]
     },
     "execution_count": 59,
     "metadata": {},
     "output_type": "execute_result"
    }
   ],
   "source": [
    "mask = co.index.isin(outliers.index)\n",
    "mask"
   ]
  },
  {
   "cell_type": "code",
   "execution_count": 61,
   "id": "5e0b1caf-90d0-4293-a1ab-21a144ab3f59",
   "metadata": {},
   "outputs": [
    {
     "name": "stderr",
     "output_type": "stream",
     "text": [
      "C:\\Users\\Windows10\\anaconda3\\lib\\site-packages\\seaborn\\distributions.py:2557: FutureWarning: `distplot` is a deprecated function and will be removed in a future version. Please adapt your code to use either `displot` (a figure-level function with similar flexibility) or `histplot` (an axes-level function for histograms).\n",
      "  warnings.warn(msg, FutureWarning)\n",
      "C:\\Users\\Windows10\\anaconda3\\lib\\site-packages\\seaborn\\distributions.py:2557: FutureWarning: `distplot` is a deprecated function and will be removed in a future version. Please adapt your code to use either `displot` (a figure-level function with similar flexibility) or `histplot` (an axes-level function for histograms).\n",
      "  warnings.warn(msg, FutureWarning)\n"
     ]
    },
    {
     "data": {
      "text/plain": [
       "<matplotlib.legend.Legend at 0x14896c69d00>"
      ]
     },
     "execution_count": 61,
     "metadata": {},
     "output_type": "execute_result"
    }
   ],
   "source": [
    "sns.distplot(co, axlabel='CO(GT)', label='original')\n",
    "sns.distplot(co[~mask], label='outliers removed')\n",
    "plt.legend(loc='best')"
   ]
  },
  {
   "cell_type": "code",
   "execution_count": 63,
   "id": "c072f8ba-66f5-4272-a5bd-7e1c2cdce853",
   "metadata": {},
   "outputs": [
    {
     "data": {
      "text/plain": [
       "<AxesSubplot:xlabel='Datetime'>"
      ]
     },
     "execution_count": 63,
     "metadata": {},
     "output_type": "execute_result"
    }
   ],
   "source": [
    "floor = co.quantile(0.1)\n",
    "cap = co.quantile(0.9)\n",
    "\n",
    "co.loc[co < floor] = floor\n",
    "co.loc[co > cap] = cap\n",
    "\n",
    "co.plot()"
   ]
  }
 ],
 "metadata": {
  "kernelspec": {
   "display_name": "Python 3",
   "language": "python",
   "name": "python3"
  },
  "language_info": {
   "codemirror_mode": {
    "name": "ipython",
    "version": 3
   },
   "file_extension": ".py",
   "mimetype": "text/x-python",
   "name": "python",
   "nbconvert_exporter": "python",
   "pygments_lexer": "ipython3",
   "version": "3.8.8"
  }
 },
 "nbformat": 4,
 "nbformat_minor": 5
}
