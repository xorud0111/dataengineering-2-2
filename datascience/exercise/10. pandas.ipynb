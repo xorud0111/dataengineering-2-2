{
 "cells": [
  {
   "cell_type": "code",
   "execution_count": 5,
   "id": "9f553b60-4192-4fbf-997f-e715391aeb86",
   "metadata": {},
   "outputs": [],
   "source": [
    "import numpy as np\n",
    "import pandas as pd"
   ]
  },
  {
   "cell_type": "code",
   "execution_count": 9,
   "id": "02366a5d-e510-4b6d-b397-5ac755e43286",
   "metadata": {},
   "outputs": [
    {
     "data": {
      "text/plain": [
       "\u001b[1;31mType:\u001b[0m        module\n",
       "\u001b[1;31mString form:\u001b[0m <module 'pandas' from 'C:\\\\Users\\\\Windows10\\\\anaconda3\\\\lib\\\\site-packages\\\\pandas\\\\__init__.py'>\n",
       "\u001b[1;31mFile:\u001b[0m        c:\\users\\windows10\\anaconda3\\lib\\site-packages\\pandas\\__init__.py\n",
       "\u001b[1;31mDocstring:\u001b[0m  \n",
       "pandas - a powerful data analysis and manipulation library for Python\n",
       "=====================================================================\n",
       "\n",
       "**pandas** is a Python package providing fast, flexible, and expressive data\n",
       "structures designed to make working with \"relational\" or \"labeled\" data both\n",
       "easy and intuitive. It aims to be the fundamental high-level building block for\n",
       "doing practical, **real world** data analysis in Python. Additionally, it has\n",
       "the broader goal of becoming **the most powerful and flexible open source data\n",
       "analysis / manipulation tool available in any language**. It is already well on\n",
       "its way toward this goal.\n",
       "\n",
       "Main Features\n",
       "-------------\n",
       "Here are just a few of the things that pandas does well:\n",
       "\n",
       "  - Easy handling of missing data in floating point as well as non-floating\n",
       "    point data.\n",
       "  - Size mutability: columns can be inserted and deleted from DataFrame and\n",
       "    higher dimensional objects\n",
       "  - Automatic and explicit data alignment: objects can be explicitly aligned\n",
       "    to a set of labels, or the user can simply ignore the labels and let\n",
       "    `Series`, `DataFrame`, etc. automatically align the data for you in\n",
       "    computations.\n",
       "  - Powerful, flexible group by functionality to perform split-apply-combine\n",
       "    operations on data sets, for both aggregating and transforming data.\n",
       "  - Make it easy to convert ragged, differently-indexed data in other Python\n",
       "    and NumPy data structures into DataFrame objects.\n",
       "  - Intelligent label-based slicing, fancy indexing, and subsetting of large\n",
       "    data sets.\n",
       "  - Intuitive merging and joining data sets.\n",
       "  - Flexible reshaping and pivoting of data sets.\n",
       "  - Hierarchical labeling of axes (possible to have multiple labels per tick).\n",
       "  - Robust IO tools for loading data from flat files (CSV and delimited),\n",
       "    Excel files, databases, and saving/loading data from the ultrafast HDF5\n",
       "    format.\n",
       "  - Time series-specific functionality: date range generation and frequency\n",
       "    conversion, moving window statistics, date shifting and lagging.\n"
      ]
     },
     "metadata": {},
     "output_type": "display_data"
    }
   ],
   "source": [
    "# help\n",
    "pd?"
   ]
  },
  {
   "cell_type": "code",
   "execution_count": 11,
   "id": "eaee501a-b77d-489c-b2a8-7089128e7738",
   "metadata": {},
   "outputs": [
    {
     "data": {
      "text/plain": [
       "'1.2.4'"
      ]
     },
     "execution_count": 11,
     "metadata": {},
     "output_type": "execute_result"
    }
   ],
   "source": [
    "# print version of pandas\n",
    "pd.__version__"
   ]
  },
  {
   "cell_type": "code",
   "execution_count": 13,
   "id": "57ed602c-6a6e-42ac-b6ce-8e5b11aa3445",
   "metadata": {},
   "outputs": [
    {
     "name": "stdout",
     "output_type": "stream",
     "text": [
      "0    0.25\n",
      "1    0.50\n",
      "2    0.75\n",
      "3    1.00\n",
      "dtype: float64\n"
     ]
    }
   ],
   "source": [
    "\"\"\"\n",
    "Pandas Object: Series\n",
    "\"\"\"\n",
    "ser = pd.Series([0.25, 0.5, 0.75, 1.0])\n",
    "print(ser)"
   ]
  },
  {
   "cell_type": "code",
   "execution_count": 15,
   "id": "8c9ec77e-704a-4882-a14e-de3d7145054a",
   "metadata": {},
   "outputs": [
    {
     "name": "stdout",
     "output_type": "stream",
     "text": [
      "[0.25 0.5  0.75 1.  ]\n",
      "RangeIndex(start=0, stop=4, step=1)\n"
     ]
    }
   ],
   "source": [
    "\"\"\"\n",
    "Values, index\n",
    "\"\"\"\n",
    "arr = ser.values\n",
    "print(arr)\n",
    "\n",
    "ind = ser.index\n",
    "print(ind)"
   ]
  },
  {
   "cell_type": "code",
   "execution_count": 17,
   "id": "98fdc479-b490-4887-b070-730f559fe7ec",
   "metadata": {},
   "outputs": [
    {
     "name": "stdout",
     "output_type": "stream",
     "text": [
      "a    0.25\n",
      "b    0.50\n",
      "dtype: float64\n"
     ]
    }
   ],
   "source": [
    "\"\"\"\n",
    "Label-based indexing\n",
    "\"\"\"\n",
    "ser = pd.Series([0.25, 0.5], index = ['a', 'b'])\n",
    "print(ser)"
   ]
  },
  {
   "cell_type": "code",
   "execution_count": 23,
   "id": "07833220-dd3d-4725-9659-14bf99a55e85",
   "metadata": {},
   "outputs": [
    {
     "name": "stdout",
     "output_type": "stream",
     "text": [
      "Cal    383\n",
      "Tex    264\n",
      "Ny     200\n",
      "dtype: int64\n"
     ]
    }
   ],
   "source": [
    "\"\"\"\n",
    "Creating a series from a dictionary\n",
    "\"\"\"\n",
    "population_dict = {'Cal' : 383, 'Tex' : 264, 'Ny' : 200}\n",
    "population = pd.Series(population_dict)\n",
    "print(population)"
   ]
  },
  {
   "cell_type": "code",
   "execution_count": 26,
   "id": "7a826094-e764-4225-8202-e226e9d1fbde",
   "metadata": {},
   "outputs": [
    {
     "name": "stdout",
     "output_type": "stream",
     "text": [
      "Cal    423\n",
      "Tex    695\n",
      "Ny     123\n",
      "dtype: int64\n"
     ]
    }
   ],
   "source": [
    "\"\"\"\n",
    "Pandas Object : dataframe\n",
    "\"\"\"\n",
    "area_dict = {'Cal' : 423, 'Tex' : 695, 'Ny' : 123}\n",
    "area = pd.Series(area_dict)\n",
    "print(area)"
   ]
  },
  {
   "cell_type": "code",
   "execution_count": 33,
   "id": "7d06ae1d-d452-4b88-9972-4ed91c0434e7",
   "metadata": {},
   "outputs": [
    {
     "name": "stdout",
     "output_type": "stream",
     "text": [
      "     population  area\n",
      "Cal         383   423\n",
      "Tex         264   695\n",
      "Ny          200   123\n",
      "Index(['Cal', 'Tex', 'Ny'], dtype='object')\n"
     ]
    }
   ],
   "source": [
    "# dataframe\n",
    "states = pd.DataFrame({'population' : population, 'area' : area})\n",
    "print(states)\n",
    "print(states.index)"
   ]
  },
  {
   "cell_type": "code",
   "execution_count": 38,
   "id": "b47b2223-8336-4edc-821c-f9cc2e887d7a",
   "metadata": {},
   "outputs": [
    {
     "name": "stdout",
     "output_type": "stream",
     "text": [
      "[[0.34427788 0.66674533]\n",
      " [0.16698053 0.06963924]] \n",
      "\n",
      "        foo       bar\n",
      "a  0.344278  0.666745\n",
      "b  0.166981  0.069639\n"
     ]
    }
   ],
   "source": [
    "arr = np.random.rand(2, 2)\n",
    "print(arr, '\\n')\n",
    "\n",
    "dat = pd.DataFrame(arr, columns = ['foo', 'bar'], index = ['a', 'b'])\n",
    "print(dat)"
   ]
  },
  {
   "cell_type": "code",
   "execution_count": 43,
   "id": "2fc1d479-77d5-4ac6-becb-f4f29689cfdc",
   "metadata": {},
   "outputs": [
    {
     "name": "stdout",
     "output_type": "stream",
     "text": [
      "a    0.25\n",
      "b    0.50\n",
      "c    1.00\n",
      "dtype: float64\n",
      "True\n",
      "False\n",
      "Index(['a', 'b', 'c'], dtype='object')\n"
     ]
    }
   ],
   "source": [
    "\"\"\"\n",
    "Ser dict style\n",
    "\"\"\"\n",
    "ser = pd.Series([0.25, 0.5, 1.0], index = ['a', 'b', 'c'])\n",
    "print(ser)\n",
    "print('a' in ser)\n",
    "print(0.25 in ser)\n",
    "\n",
    "print(ser.index)"
   ]
  },
  {
   "cell_type": "code",
   "execution_count": 46,
   "id": "067fc9b1-2793-4a88-bc14-35005aec54e4",
   "metadata": {},
   "outputs": [
    {
     "name": "stdout",
     "output_type": "stream",
     "text": [
      "Index(['a', 'b', 'c', 'e', 'd'], dtype='object')\n",
      "a    0.10\n",
      "b    0.50\n",
      "c    1.00\n",
      "e    1.25\n",
      "d    1.25\n",
      "dtype: float64\n"
     ]
    }
   ],
   "source": [
    "\"\"\"\n",
    "수정\n",
    "\"\"\"\n",
    "print(ser.keys())\n",
    "ser['d'] = 1.25\n",
    "ser['a'] = 0.1\n",
    "print(ser)"
   ]
  },
  {
   "cell_type": "code",
   "execution_count": 52,
   "id": "c0ea95cb-1740-42bb-8603-7f6c60b66083",
   "metadata": {},
   "outputs": [
    {
     "name": "stdout",
     "output_type": "stream",
     "text": [
      "Cal    423\n",
      "Tex    695\n",
      "Ny     123\n",
      "Name: area, dtype: int64\n"
     ]
    }
   ],
   "source": [
    "\"\"\"\n",
    "indexing\n",
    "\"\"\"\n",
    "print(states['area'])"
   ]
  },
  {
   "cell_type": "code",
   "execution_count": 59,
   "id": "1c5618ec-f1eb-47b3-b9a5-987fbeca75ba",
   "metadata": {},
   "outputs": [
    {
     "name": "stdout",
     "output_type": "stream",
     "text": [
      "     population  area   density\n",
      "Cal         383   423  0.905437\n",
      "Tex         264   695  0.379856\n",
      "Ny          200   123  1.626016\n",
      "     population  area   density\n",
      "Cal         383   423  0.905437\n",
      "Tex         264   695  0.379856\n",
      "Ny          200   123  1.626016\n"
     ]
    }
   ],
   "source": [
    "\"\"\"\n",
    "dataframe manipulation\n",
    "\"\"\"\n",
    "print(states)\n",
    "states['density'] = states['population'] / states['area']\n",
    "print(states)"
   ]
  },
  {
   "cell_type": "code",
   "execution_count": 67,
   "id": "d0f63511-7f2c-42fd-9d45-5f035b78a6d3",
   "metadata": {},
   "outputs": [
    {
     "data": {
      "text/html": [
       "<div>\n",
       "<style scoped>\n",
       "    .dataframe tbody tr th:only-of-type {\n",
       "        vertical-align: middle;\n",
       "    }\n",
       "\n",
       "    .dataframe tbody tr th {\n",
       "        vertical-align: top;\n",
       "    }\n",
       "\n",
       "    .dataframe thead th {\n",
       "        text-align: right;\n",
       "    }\n",
       "</style>\n",
       "<table border=\"1\" class=\"dataframe\">\n",
       "  <thead>\n",
       "    <tr style=\"text-align: right;\">\n",
       "      <th></th>\n",
       "      <th>population</th>\n",
       "      <th>area</th>\n",
       "      <th>density</th>\n",
       "    </tr>\n",
       "  </thead>\n",
       "  <tbody>\n",
       "    <tr>\n",
       "      <th>Cal</th>\n",
       "      <td>383</td>\n",
       "      <td>423</td>\n",
       "      <td>0.905437</td>\n",
       "    </tr>\n",
       "    <tr>\n",
       "      <th>Tex</th>\n",
       "      <td>264</td>\n",
       "      <td>695</td>\n",
       "      <td>0.379856</td>\n",
       "    </tr>\n",
       "    <tr>\n",
       "      <th>Ny</th>\n",
       "      <td>200</td>\n",
       "      <td>123</td>\n",
       "      <td>1.626016</td>\n",
       "    </tr>\n",
       "  </tbody>\n",
       "</table>\n",
       "</div>"
      ],
      "text/plain": [
       "     population  area   density\n",
       "Cal         383   423  0.905437\n",
       "Tex         264   695  0.379856\n",
       "Ny          200   123  1.626016"
      ]
     },
     "execution_count": 67,
     "metadata": {},
     "output_type": "execute_result"
    }
   ],
   "source": [
    "# indexer loc : iloc\n",
    "states.iloc[0 : 3]"
   ]
  }
 ],
 "metadata": {
  "kernelspec": {
   "display_name": "Python 3",
   "language": "python",
   "name": "python3"
  },
  "language_info": {
   "codemirror_mode": {
    "name": "ipython",
    "version": 3
   },
   "file_extension": ".py",
   "mimetype": "text/x-python",
   "name": "python",
   "nbconvert_exporter": "python",
   "pygments_lexer": "ipython3",
   "version": "3.8.8"
  }
 },
 "nbformat": 4,
 "nbformat_minor": 5
}
