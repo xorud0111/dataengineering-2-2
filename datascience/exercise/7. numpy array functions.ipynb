{
 "cells": [
  {
   "cell_type": "code",
   "execution_count": 3,
   "id": "d56df73c-01f5-49bd-911d-577d1585876d",
   "metadata": {},
   "outputs": [],
   "source": [
    "import numpy as np"
   ]
  },
  {
   "cell_type": "code",
   "execution_count": 5,
   "id": "000cbffd-02e0-4af5-a42d-e33ec459e1a3",
   "metadata": {},
   "outputs": [
    {
     "name": "stdout",
     "output_type": "stream",
     "text": [
      "[0 1 2]\n"
     ]
    }
   ],
   "source": [
    "\"\"\"\n",
    "Numpy Array Attributes\n",
    "\"\"\"\n",
    "# Creating an array\n",
    "print(np.arange(3))"
   ]
  },
  {
   "cell_type": "code",
   "execution_count": 26,
   "id": "83d211b5-21e7-4538-8427-1bb0c907da4b",
   "metadata": {},
   "outputs": [
    {
     "name": "stdout",
     "output_type": "stream",
     "text": [
      "[5 0 3 3 7 9]\n",
      "[[3 5 2 4]\n",
      " [7 6 8 8]\n",
      " [1 6 7 7]]\n",
      "[[[8 1 5 9 8]\n",
      "  [9 4 3 0 3]\n",
      "  [5 0 2 3 8]\n",
      "  [1 3 3 3 7]]\n",
      "\n",
      " [[0 1 9 9 0]\n",
      "  [4 7 3 2 7]\n",
      "  [2 0 0 4 5]\n",
      "  [5 6 8 4 1]]\n",
      "\n",
      " [[4 9 8 1 1]\n",
      "  [7 9 9 3 6]\n",
      "  [7 2 0 3 5]\n",
      "  [9 4 4 6 4]]]\n"
     ]
    }
   ],
   "source": [
    "# Random number generation\n",
    "\n",
    "np.random.seed(0)\n",
    "arr1 = np.random.randint(10, size = 6)\n",
    "print(arr1)\n",
    "arr2 = np.random.randint(10, size = (3, 4))\n",
    "print(arr2)\n",
    "arr3 = np.random.randint(10, size = (3, 4, 5))\n",
    "print(arr3)"
   ]
  },
  {
   "cell_type": "code",
   "execution_count": 32,
   "id": "e5d25fd4-077d-4434-bd3a-2891164c7edc",
   "metadata": {},
   "outputs": [
    {
     "name": "stdout",
     "output_type": "stream",
     "text": [
      "[[3 5 2 4]\n",
      " [7 6 8 8]\n",
      " [1 6 7 7]]\n",
      "arr2.ndim =  2\n",
      "arr2.shape =  (3, 4)\n",
      "arr2.size =  12\n",
      "arr2.dtype =  int32\n",
      "arr2.itemsize =  4\n",
      "arr2.nbytes =  48\n"
     ]
    }
   ],
   "source": [
    "# Attributes\n",
    "print(arr2)\n",
    "\n",
    "print(\"arr2.ndim = \", arr2.ndim)\n",
    "print(\"arr2.shape = \", arr2.shape)\n",
    "print(\"arr2.size = \", arr2.size)\n",
    "print(\"arr2.dtype = \", arr2.dtype)\n",
    "print(\"arr2.itemsize = \", arr2.itemsize)\n",
    "print(\"arr2.nbytes = \", arr2.nbytes)"
   ]
  },
  {
   "cell_type": "code",
   "execution_count": 37,
   "id": "56f5c8bb-0a8a-4f5b-8a7c-9381a8298124",
   "metadata": {},
   "outputs": [
    {
     "name": "stdout",
     "output_type": "stream",
     "text": [
      "[0 1 2 3 4 5 6 7 8 9]\n",
      "[3 4 5 6]\n",
      "[5 6 7 8 9]\n",
      "[0 1 2 3 4]\n"
     ]
    }
   ],
   "source": [
    "\"\"\"\n",
    "Slicing\n",
    "\"\"\"\n",
    "arr = np.arange(10)\n",
    "print(arr)\n",
    "\n",
    "print(arr[3:7])\n",
    "print(arr[5:])\n",
    "print(arr[:5])"
   ]
  },
  {
   "cell_type": "code",
   "execution_count": 49,
   "id": "3b37abd2-fce7-4aa4-a45b-54fab76eed32",
   "metadata": {},
   "outputs": [
    {
     "name": "stdout",
     "output_type": "stream",
     "text": [
      "[[5 0 3 3]\n",
      " [7 9 3 5]\n",
      " [2 4 7 6]]\n",
      "[[5 0]\n",
      " [7 9]]\n"
     ]
    }
   ],
   "source": [
    "# Multi-dimensional Subarrays\n",
    "np.random.seed(0)\n",
    "arr = np.random.randint(10, size = (3, 4))\n",
    "print(arr)\n",
    "print(arr[0:2, 0:2])"
   ]
  },
  {
   "cell_type": "code",
   "execution_count": 56,
   "id": "e0dbeff3-8211-48d3-8437-74bbb4431191",
   "metadata": {},
   "outputs": [
    {
     "name": "stdout",
     "output_type": "stream",
     "text": [
      "[[5 0 3 3]\n",
      " [7 9 3 5]\n",
      " [2 4 7 6]] \n",
      "\n",
      "[[99  0  3  3]\n",
      " [ 7  9  3  5]\n",
      " [ 2  4  7  6]]\n"
     ]
    }
   ],
   "source": [
    "\"\"\"\n",
    "Subarrays an no-copy views\n",
    "\"\"\"\n",
    "np.random.seed(0)\n",
    "arr = np.random.randint(10, size = (3, 4))\n",
    "print(arr, \"\\n\")\n",
    "arr_sub = arr[0, 0] = 99\n",
    "print(arr)"
   ]
  },
  {
   "cell_type": "code",
   "execution_count": 63,
   "id": "7b582fc9-37b4-4b16-91a9-7fecea3e06f0",
   "metadata": {},
   "outputs": [
    {
     "name": "stdout",
     "output_type": "stream",
     "text": [
      "[[99  0  3  3]\n",
      " [ 7  9  3  5]\n",
      " [ 2  4  7  6]]\n",
      "[[99]]\n",
      "[[99  0  3  3]\n",
      " [ 7  9  3  5]\n",
      " [ 2  4  7  6]]\n",
      "[1]\n"
     ]
    }
   ],
   "source": [
    "# .copy()\n",
    "arr_sub = arr[0 : 1, 0 : 1].copy()\n",
    "print(arr)\n",
    "print(arr_sub)\n",
    "arr_sub = [1]\n",
    "print(arr)\n",
    "print(arr_sub)"
   ]
  },
  {
   "cell_type": "code",
   "execution_count": 87,
   "id": "22626a13-4426-43ad-b943-7d8470555eeb",
   "metadata": {},
   "outputs": [
    {
     "name": "stdout",
     "output_type": "stream",
     "text": [
      "[5 0 3 3 7 9 3 5 2 4 7 6]\n",
      "[[5 0 3 3]\n",
      " [7 9 3 5]\n",
      " [2 4 7 6]]\n"
     ]
    }
   ],
   "source": [
    "\"\"\"\n",
    "Reshaping of array\n",
    "\"\"\"\n",
    "np.random.seed(0)\n",
    "arr = np.random.randint(10, size = 12)\n",
    "print(arr)\n",
    "arr = arr.reshape(3, 4)\n",
    "print(arr)"
   ]
  },
  {
   "cell_type": "code",
   "execution_count": 84,
   "id": "1b57d61a-ab51-45b8-9d28-29750ed7bf82",
   "metadata": {},
   "outputs": [
    {
     "name": "stdout",
     "output_type": "stream",
     "text": [
      "[5 0 3]\n",
      "[[5]\n",
      " [0]\n",
      " [3]]\n"
     ]
    }
   ],
   "source": [
    "# np.newaxis\n",
    "np.random.seed(0)\n",
    "arr = np.random.randint(10, size = 3)\n",
    "print(arr)\n",
    "arr_new = arr[: , np.newaxis]\n",
    "print(arr_new)"
   ]
  },
  {
   "cell_type": "code",
   "execution_count": 71,
   "id": "f4195cc0-c7fb-4c95-85b6-4a6e29868b82",
   "metadata": {},
   "outputs": [
    {
     "name": "stdout",
     "output_type": "stream",
     "text": [
      "[1 2 3 4 5 6 7 8 9]\n"
     ]
    }
   ],
   "source": [
    "\"\"\"\n",
    "Array Concatenation\n",
    "\"\"\"\n",
    "arr_1 = np.array([1, 2, 3])\n",
    "arr_2 = np.array([4, 5, 6])\n",
    "arr_3 = np.array([7, 8, 9])\n",
    "\n",
    "arr_total = np.concatenate([arr_1, arr_2, arr_3])\n",
    "print(arr_total)"
   ]
  },
  {
   "cell_type": "code",
   "execution_count": 73,
   "id": "775278e5-dbb3-472b-be9f-d7e38c9b25cc",
   "metadata": {},
   "outputs": [
    {
     "name": "stdout",
     "output_type": "stream",
     "text": [
      "[1, 2, 3, 4, 5, 6, 7]\n",
      "[1 2]\n",
      "[3 4 5]\n",
      "[6 7]\n"
     ]
    }
   ],
   "source": [
    "\"\"\"\n",
    "Array Splittng\n",
    "\"\"\"\n",
    "arr = [1, 2, 3, 4, 5, 6, 7]\n",
    "print(arr)\n",
    "arr_1, arr_2, arr_3 = np.split(arr, [2, 5])\n",
    "print(arr_1)\n",
    "print(arr_2)\n",
    "print(arr_3)"
   ]
  }
 ],
 "metadata": {
  "kernelspec": {
   "display_name": "Python 3",
   "language": "python",
   "name": "python3"
  },
  "language_info": {
   "codemirror_mode": {
    "name": "ipython",
    "version": 3
   },
   "file_extension": ".py",
   "mimetype": "text/x-python",
   "name": "python",
   "nbconvert_exporter": "python",
   "pygments_lexer": "ipython3",
   "version": "3.8.8"
  }
 },
 "nbformat": 4,
 "nbformat_minor": 5
}
