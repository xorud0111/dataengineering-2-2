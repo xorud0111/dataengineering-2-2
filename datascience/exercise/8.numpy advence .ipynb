{
 "cells": [
  {
   "cell_type": "code",
   "execution_count": 5,
   "id": "1144727b-abe6-4758-b41a-147faac331c8",
   "metadata": {},
   "outputs": [],
   "source": [
    "import numpy as np"
   ]
  },
  {
   "cell_type": "code",
   "execution_count": 15,
   "id": "e36d216a-dea1-49aa-8927-929625ec9b05",
   "metadata": {},
   "outputs": [
    {
     "name": "stdout",
     "output_type": "stream",
     "text": [
      "[5 8 9 5 0] [0 1 7 6 9]\n",
      "[ 3  6  7  3 -2] [0 1 7 6 9]\n",
      "[ 3  7 14  9  7]\n",
      "[[2 4 5 2 4]\n",
      " [2 4 7 7 9]\n",
      " [1 7 0 6 9]]\n",
      "[[ 4 16 25  4 16]\n",
      " [ 4 16 49 49 81]\n",
      " [ 1 49  0 36 81]]\n"
     ]
    }
   ],
   "source": [
    "\"\"\"\n",
    "numpy.ufunc\n",
    "\"\"\"\n",
    "np.random.seed(1)\n",
    "arr1 = np.random.randint(10, size = 5)\n",
    "arr2 = np.random.randint(10, size = 5)\n",
    "print(arr1, arr2)\n",
    "\n",
    "arr1 = arr1 - 2\n",
    "print(arr1, arr2)\n",
    "\n",
    "arr3 = arr1 + arr2\n",
    "print(arr3)\n",
    "\n",
    "arr4 = np.random.randint(10, size = (3, 5))\n",
    "print(arr4)\n",
    "\n",
    "arr5 = arr4 ** 2\n",
    "print(arr5)"
   ]
  },
  {
   "cell_type": "code",
   "execution_count": 20,
   "id": "2c817008-69ad-48e6-96aa-fb2e6dd2a2ae",
   "metadata": {},
   "outputs": [
    {
     "name": "stdout",
     "output_type": "stream",
     "text": [
      "[2 1 0 1 2]\n",
      "[5.]\n"
     ]
    }
   ],
   "source": [
    "\"\"\"\n",
    "ufuncs : Absolute Value\n",
    "\"\"\"\n",
    "x = np.array([-2, -1, 0, 1, 2])\n",
    "print(np.abs(x))\n",
    "\n",
    "x = np.array([3-4j])\n",
    "print(np.abs(x))"
   ]
  },
  {
   "cell_type": "code",
   "execution_count": 29,
   "id": "5c9305ea-6625-4096-b413-12682c8a9b7e",
   "metadata": {},
   "outputs": [
    {
     "name": "stdout",
     "output_type": "stream",
     "text": [
      "[0.         1.57079633 3.14159265]\n",
      "[0.0000000e+00 1.0000000e+00 1.2246468e-16]\n",
      "[ 1.000000e+00  6.123234e-17 -1.000000e+00]\n",
      "[ 0.00000000e+00  1.63312394e+16 -1.22464680e-16]\n",
      "[  0.  10.  20.  30.  40.  50.  60.  70.  80.  90. 100.]\n"
     ]
    }
   ],
   "source": [
    "\"\"\"\n",
    "ufuncs : Trigonometric functions\n",
    "\"\"\"\n",
    "theta = np.linspace(0, np.pi, 3)\n",
    "print(theta)\n",
    "print(np.sin(theta))\n",
    "print(np.cos(theta))\n",
    "print(np.tan(theta))\n",
    "\n",
    "x = np.linspace(0, 100, 11)\n",
    "print(x)"
   ]
  },
  {
   "cell_type": "code",
   "execution_count": 34,
   "id": "3fdb52ba-9dd9-4131-8f2f-670b76126564",
   "metadata": {},
   "outputs": [
    {
     "name": "stdout",
     "output_type": "stream",
     "text": [
      "[1 2 3 4]\n",
      "10\n",
      "24\n"
     ]
    }
   ],
   "source": [
    "\"\"\"\n",
    "ufuncs : aggregation\n",
    "\"\"\"\n",
    "x = np.arange(1, 5)\n",
    "print(x)\n",
    "aggr = np.add.reduce(x)\n",
    "print(aggr)\n",
    "aggr = np.multiply.reduce(x)\n",
    "print(aggr)"
   ]
  },
  {
   "cell_type": "code",
   "execution_count": 37,
   "id": "64f7fdc6-f67d-416f-8ecb-48222834c9a6",
   "metadata": {},
   "outputs": [
    {
     "name": "stdout",
     "output_type": "stream",
     "text": [
      "[1 2 3 4]\n",
      "[ 1  3  6 10]\n",
      "[ 1  2  6 24]\n"
     ]
    }
   ],
   "source": [
    "# accumulate()\n",
    "print(x)\n",
    "\n",
    "accum = np.add.accumulate(x)\n",
    "print(accum)\n",
    "accum = np.multiply.accumulate(x)\n",
    "print(accum)"
   ]
  },
  {
   "cell_type": "code",
   "execution_count": 40,
   "id": "bc0bceeb-14d4-4f28-b5bd-3268792aa68d",
   "metadata": {},
   "outputs": [
    {
     "name": "stdout",
     "output_type": "stream",
     "text": [
      "[0.5507979  0.70814782 0.29090474 ... 0.93033748 0.80429816 0.47400579]\n",
      "sum =  500422.19897015305\n"
     ]
    }
   ],
   "source": [
    "# summing the value in an array\n",
    "np.random.seed(3)\n",
    "arr = np.random.rand(1000000) # rand(): cearte 0~1 real numbers\n",
    "\n",
    "print(arr)\n",
    "print(\"sum = \", np.sum(arr))"
   ]
  },
  {
   "cell_type": "code",
   "execution_count": 43,
   "id": "295251e4-4716-41c0-b648-9863ed2a8740",
   "metadata": {},
   "outputs": [
    {
     "name": "stdout",
     "output_type": "stream",
     "text": [
      "72.8 ms ± 637 µs per loop (mean ± std. dev. of 7 runs, 10 loops each)\n"
     ]
    }
   ],
   "source": [
    "%timeit sum(arr)"
   ]
  },
  {
   "cell_type": "code",
   "execution_count": 45,
   "id": "32f52090-9eff-4bdb-a148-a560854e2eaf",
   "metadata": {},
   "outputs": [
    {
     "name": "stdout",
     "output_type": "stream",
     "text": [
      "1.12 ms ± 14.2 µs per loop (mean ± std. dev. of 7 runs, 1000 loops each)\n"
     ]
    }
   ],
   "source": [
    "%timeit np.sum(arr)"
   ]
  },
  {
   "cell_type": "code",
   "execution_count": 50,
   "id": "98a28fa9-e1a9-49be-9555-02dbf0db9492",
   "metadata": {},
   "outputs": [
    {
     "name": "stdout",
     "output_type": "stream",
     "text": [
      "max =  0.9999996367889004\n",
      "min =  1.5496004267534502e-06\n",
      "mean =  0.500422198970153\n",
      "median =  0.5005659265960778\n",
      "percentile =  0.9001765340710965\n",
      "False\n",
      "True\n"
     ]
    }
   ],
   "source": [
    "# other aggr function\n",
    "\n",
    "print(\"max = \", np.max(arr))\n",
    "print(\"min = \", np.min(arr))\n",
    "print(\"mean = \", np.mean(arr))\n",
    "print(\"median = \", np.median(arr))\n",
    "print(\"percentile = \", np.percentile(arr, 90))\n",
    "print(np.any(arr>1))\n",
    "print(np.all(arr<1))"
   ]
  },
  {
   "cell_type": "code",
   "execution_count": 52,
   "id": "031eaa15-1935-4e9f-963c-d39e2ad56197",
   "metadata": {},
   "outputs": [
    {
     "name": "stdout",
     "output_type": "stream",
     "text": [
      "[[3 6 6 0 9]\n",
      " [8 4 7 0 0]\n",
      " [7 1 5 7 0]]\n",
      "[18 11 18  7  9]\n",
      "[24 19 20]\n"
     ]
    }
   ],
   "source": [
    "# multi dimensional aggregates\n",
    "np.random.seed(5)\n",
    "arr = np.random.randint(10, size = (3, 5))\n",
    "print(arr)\n",
    "arr1 = np.sum(arr, axis = 0)\n",
    "print(arr1)\n",
    "arr2 = np.sum(arr, axis = 1)\n",
    "print(arr2)"
   ]
  }
 ],
 "metadata": {
  "kernelspec": {
   "display_name": "Python 3",
   "language": "python",
   "name": "python3"
  },
  "language_info": {
   "codemirror_mode": {
    "name": "ipython",
    "version": 3
   },
   "file_extension": ".py",
   "mimetype": "text/x-python",
   "name": "python",
   "nbconvert_exporter": "python",
   "pygments_lexer": "ipython3",
   "version": "3.8.8"
  }
 },
 "nbformat": 4,
 "nbformat_minor": 5
}
