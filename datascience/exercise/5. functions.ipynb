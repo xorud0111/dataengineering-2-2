{
 "cells": [
  {
   "cell_type": "code",
   "execution_count": 10,
   "id": "87e79477-6412-410a-b74b-4953716aceac",
   "metadata": {},
   "outputs": [
    {
     "name": "stdout",
     "output_type": "stream",
     "text": [
      "4\n",
      "8\n"
     ]
    }
   ],
   "source": [
    "\"\"\"\n",
    "Functions VS Meothod\n",
    "\"\"\"\n",
    "def my_function(x):\n",
    "    return x + 1\n",
    "\n",
    "y = 3\n",
    "print(my_function(y))\n",
    "\n",
    "# method : 클래스 내에 정의된 함수\n",
    "class my_class:\n",
    "    def my_method(self):\n",
    "        return x + 1\n",
    "\n",
    "a = my_class()\n",
    "x = 7\n",
    "print(a.my_method())\n"
   ]
  },
  {
   "cell_type": "code",
   "execution_count": 14,
   "id": "e8961127-d1d3-4465-a10f-5b91849d49aa",
   "metadata": {},
   "outputs": [
    {
     "name": "stdout",
     "output_type": "stream",
     "text": [
      "2021 is a not leap year.\n",
      "2020 is a leap year.\n"
     ]
    }
   ],
   "source": [
    "\"\"\"\n",
    "Return Ketword\n",
    "\"\"\"\n",
    "# Leap year : 윤년\n",
    "def check_leap_year(year):\n",
    "    if year % 4 == 0:\n",
    "        return str(year) + \" is a leap year.\"\n",
    "    else:\n",
    "        return str(year) + \" is a not leap year.\"\n",
    "    \n",
    "print(check_leap_year(2021))\n",
    "result = check_leap_year(2020)\n",
    "print(result)"
   ]
  },
  {
   "cell_type": "code",
   "execution_count": 16,
   "id": "6d557e80-20f3-4307-a1d7-3e7688584949",
   "metadata": {},
   "outputs": [
    {
     "name": "stdout",
     "output_type": "stream",
     "text": [
      "9 16 25\n"
     ]
    }
   ],
   "source": [
    "\"\"\"\n",
    "Returning Multiple Values\n",
    "\"\"\"\n",
    "def square_point(x, y, z):\n",
    "    x_squared = x ** 2\n",
    "    y_squared = y ** 2\n",
    "    z_squared = z ** 2\n",
    "    return x_squared, y_squared, z_squared\n",
    "\n",
    "three_squared, foue_squared, five_squared = square_point(3, 4, 5)\n",
    "print(three_squared, foue_squared, five_squared)"
   ]
  },
  {
   "cell_type": "code",
   "execution_count": 21,
   "id": "00eb22f1-0d1e-4038-8701-eedf9da983fd",
   "metadata": {},
   "outputs": [
    {
     "name": "stdout",
     "output_type": "stream",
     "text": [
      "Hello\n"
     ]
    }
   ],
   "source": [
    "\"\"\"\n",
    "Global Variables\n",
    "\"\"\"\n",
    "a = \"Hello\"\n",
    "\n",
    "def print_a():\n",
    "    print(a)\n",
    "\n",
    "print_a()"
   ]
  },
  {
   "cell_type": "code",
   "execution_count": 24,
   "id": "be2445d1-2197-47ea-a6be-10a3e1a0fc3b",
   "metadata": {},
   "outputs": [
    {
     "name": "stdout",
     "output_type": "stream",
     "text": [
      "2\n",
      "5\n"
     ]
    }
   ],
   "source": [
    "\"\"\"\n",
    "Local Variables\n",
    "\"\"\"\n",
    "a = 5\n",
    "def f1():\n",
    "    a = 2\n",
    "    print(a)\n",
    "f1()\n",
    "print(a)"
   ]
  },
  {
   "cell_type": "code",
   "execution_count": 26,
   "id": "71b7f9df-710b-4229-ac8a-c4ba49df2ece",
   "metadata": {},
   "outputs": [
    {
     "name": "stdout",
     "output_type": "stream",
     "text": [
      "height = 1\n",
      "width = 2\n",
      "depth = 3\n",
      "6\n",
      "height = 2\n",
      "width = 3\n",
      "depth = 1\n",
      "6\n",
      "height = 1\n",
      "width = 2\n",
      "depth = 3\n",
      "6\n",
      "height = 1\n",
      "width = 2\n",
      "depth = 3\n",
      "6\n"
     ]
    }
   ],
   "source": [
    "\"\"\"\n",
    "Keyword Artgumwents and Default Values\n",
    "\"\"\"\n",
    "def findvolume(height, width, depth = 3):\n",
    "    print(\"height = \" + str(height))\n",
    "    print(\"width = \" + str(width))\n",
    "    print(\"depth = \" + str(depth))\n",
    "    return height * width * depth\n",
    "\n",
    "#높이 1 너비 2 깊이 3\n",
    "print(findvolume(1, 2, 3))\n",
    "print(findvolume(2, 3, 1))# 잘못된 입력\n",
    "print(findvolume(width = 2, height = 1, depth = 3))\n",
    "print(findvolume(height = 1, width = 2)) # depth에 default 값을 선언 했을때"
   ]
  }
 ],
 "metadata": {
  "kernelspec": {
   "display_name": "Python 3",
   "language": "python",
   "name": "python3"
  },
  "language_info": {
   "codemirror_mode": {
    "name": "ipython",
    "version": 3
   },
   "file_extension": ".py",
   "mimetype": "text/x-python",
   "name": "python",
   "nbconvert_exporter": "python",
   "pygments_lexer": "ipython3",
   "version": "3.8.8"
  }
 },
 "nbformat": 4,
 "nbformat_minor": 5
}
