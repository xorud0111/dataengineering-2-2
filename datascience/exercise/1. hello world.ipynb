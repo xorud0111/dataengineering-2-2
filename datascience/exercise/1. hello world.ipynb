{
 "cells": [
  {
   "cell_type": "code",
   "execution_count": 7,
   "id": "64b545a6-1bfc-4287-8142-498d7f0b6523",
   "metadata": {
    "tags": []
   },
   "outputs": [
    {
     "name": "stdout",
     "output_type": "stream",
     "text": [
      "Hello World!\n",
      "100\n",
      "3.14\n",
      "My name is Kim Tae Kyung!\n"
     ]
    }
   ],
   "source": [
    "\"\"\"\n",
    "print() function\n",
    "\"\"\"\n",
    "print(\"Hello World!\")\n",
    "print(123)\n",
    "\n",
    "pi = 3.14\n",
    "print(pi)\n",
    "\n",
    "intro = \"My name is \"\n",
    "name = \"Kim Tae Kyung\"\n",
    "print(intro + name + \"!\")"
   ]
  },
  {
   "cell_type": "code",
   "execution_count": 10,
   "id": "5548ec52-f26e-4aac-875a-8ad4511326c4",
   "metadata": {},
   "outputs": [],
   "source": [
    "\"\"\"\n",
    "variables\n",
    "\"\"\"\n",
    "# 나를 표현할 수 있는 정보 세 가지 이상을 변수로 선언하시오.\n",
    "user_name = \"Kim Tae Kyung\"\n",
    "user_id = 201855046\n",
    "user_age = 22\n",
    "is_korean = True"
   ]
  },
  {
   "cell_type": "code",
   "execution_count": 12,
   "id": "439a332a-8b65-452a-912e-94dc58cf3987",
   "metadata": {},
   "outputs": [],
   "source": [
    "\"\"\"\n",
    "Data Types : Integers\n",
    "\"\"\"\n",
    "# 집에 있는 사물의 개수를 세 가지 이상을 정수 변수로 표현하시오.\n",
    "computers = 1\n",
    "tables = 1\n",
    "tvs = 2\n",
    "broken_tvs = -1\n",
    "sofa = 1"
   ]
  },
  {
   "cell_type": "code",
   "execution_count": 13,
   "id": "cab65d7f-63a8-415d-8d5d-662640efa949",
   "metadata": {},
   "outputs": [],
   "source": [
    "\"\"\"\n",
    "Data Types : Real Numbers\n",
    "\"\"\"\n",
    "# 본인이 알고있는 세 개의 실수를 변수로 정의하시오.\n",
    "PI = 3.1415926535\n",
    "krw_eur_exchange = 1384.98"
   ]
  },
  {
   "cell_type": "code",
   "execution_count": 17,
   "id": "5a742d01-8783-4fdd-b150-20164b2b6a2e",
   "metadata": {},
   "outputs": [
    {
     "name": "stdout",
     "output_type": "stream",
     "text": [
      "FPSgame\n",
      "meat\n",
      "webtoon\n",
      "FPSgame meat webtoon\n"
     ]
    }
   ],
   "source": [
    "\"\"\"\n",
    "Data Types : Strings\n",
    "\"\"\"\n",
    "# 본인이 좋아하는 세 가지를 문자열로 정의하시오.\n",
    "favorite_game = \"FPSgame\"\n",
    "favorite_food = \"meat\"\n",
    "favorite_hobby = \"webtoon\"\n",
    "\n",
    "print(favorite_game)\n",
    "print(favorite_food)\n",
    "print(favorite_hobby)\n",
    "\n",
    "favorites = favorite_game + \" \" + favorite_food + \" \"  + favorite_hobby\n",
    "\n",
    "print(favorites)"
   ]
  },
  {
   "cell_type": "code",
   "execution_count": 32,
   "id": "9a08ff70-db83-457b-8cb1-be0a36d61cee",
   "metadata": {},
   "outputs": [
    {
     "name": "stdout",
     "output_type": "stream",
     "text": [
      "9\n"
     ]
    }
   ],
   "source": [
    "\"\"\"\n",
    "x-Equals Operations\n",
    "\"\"\"\n",
    "x = 3\n",
    "x **= 2\n",
    "\n",
    "print(x)"
   ]
  },
  {
   "cell_type": "code",
   "execution_count": 35,
   "id": "357f87e6-b70d-42d6-b6f7-6e43e1f43b7e",
   "metadata": {},
   "outputs": [
    {
     "ename": "NameError",
     "evalue": "name 'my_name' is not defined",
     "output_type": "error",
     "traceback": [
      "\u001b[1;31m---------------------------------------------------------------------------\u001b[0m",
      "\u001b[1;31mNameError\u001b[0m                                 Traceback (most recent call last)",
      "\u001b[1;32m<ipython-input-35-76c2d3007463>\u001b[0m in \u001b[0;36m<module>\u001b[1;34m\u001b[0m\n\u001b[0;32m      3\u001b[0m \"\"\"\n\u001b[0;32m      4\u001b[0m \u001b[1;31m# Name Erorr\u001b[0m\u001b[1;33m\u001b[0m\u001b[1;33m\u001b[0m\u001b[1;33m\u001b[0m\u001b[0m\n\u001b[1;32m----> 5\u001b[1;33m \u001b[0mprint\u001b[0m\u001b[1;33m(\u001b[0m\u001b[0mmy_name\u001b[0m\u001b[1;33m)\u001b[0m\u001b[1;33m\u001b[0m\u001b[1;33m\u001b[0m\u001b[0m\n\u001b[0m\u001b[0;32m      6\u001b[0m \u001b[0mmy_name\u001b[0m \u001b[1;33m=\u001b[0m \u001b[1;34m\"Kim Tae Kyung\"\u001b[0m\u001b[1;33m\u001b[0m\u001b[1;33m\u001b[0m\u001b[0m\n",
      "\u001b[1;31mNameError\u001b[0m: name 'my_name' is not defined"
     ]
    }
   ],
   "source": [
    "\"\"\"\n",
    "Erorrs\n",
    "\"\"\"\n",
    "# Name Erorr\n",
    "print(my_name)\n",
    "my_name = \"Kim Tae Kyung\""
   ]
  }
 ],
 "metadata": {
  "kernelspec": {
   "display_name": "Python 3",
   "language": "python",
   "name": "python3"
  },
  "language_info": {
   "codemirror_mode": {
    "name": "ipython",
    "version": 3
   },
   "file_extension": ".py",
   "mimetype": "text/x-python",
   "name": "python",
   "nbconvert_exporter": "python",
   "pygments_lexer": "ipython3",
   "version": "3.8.8"
  }
 },
 "nbformat": 4,
 "nbformat_minor": 5
}
