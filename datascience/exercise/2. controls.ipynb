{
 "cells": [
  {
   "cell_type": "code",
   "execution_count": 7,
   "id": "9232d0c7-74ae-4e20-99cf-22a0330855f2",
   "metadata": {},
   "outputs": [
    {
     "name": "stdout",
     "output_type": "stream",
     "text": [
      "<class 'bool'>\n",
      "<class 'int'>\n"
     ]
    }
   ],
   "source": [
    "\"\"\"\n",
    "boolean variables\n",
    "\"\"\"\n",
    "is_tested = False\n",
    "print(type(is_tested))\n",
    "\n",
    "a = 1\n",
    "print(type(a))"
   ]
  },
  {
   "cell_type": "code",
   "execution_count": 23,
   "id": "c2091a7c-00b8-489b-a500-3b2382f5b5c3",
   "metadata": {},
   "outputs": [
    {
     "name": "stdout",
     "output_type": "stream",
     "text": [
      "말티즈.\n",
      "True\n"
     ]
    }
   ],
   "source": [
    "\"\"\"\n",
    "Conditional statements (if / elif / else)\n",
    "\"\"\"\n",
    "\n",
    "puppy = \"maltese\"\n",
    "age = 9\n",
    "is_yes = False\n",
    "\n",
    "if puppy == \"maltese\":\n",
    "    print(\"말티즈.\")\n",
    "    is_yes = True\n",
    "    \n",
    "    if age < 3:\n",
    "        print(\"말티즈 새끼\")\n",
    "    \n",
    "elif puppy == \"poodle\":\n",
    "    print(\"푸들.\")\n",
    "    is_yes = True\n",
    "\n",
    "elif puppy == \"shitzu\":\n",
    "    print(\"시츄.\")\n",
    "    is_yes = True\n",
    "    \n",
    "else:\n",
    "    print(\"말티푸.\")\n",
    "    is_yes = True\n",
    "\n",
    "print(is_yes)"
   ]
  },
  {
   "cell_type": "code",
   "execution_count": 28,
   "id": "3f2da70a-d204-444e-9c94-71abe031793e",
   "metadata": {},
   "outputs": [
    {
     "name": "stdout",
     "output_type": "stream",
     "text": [
      "1\n",
      "[error]\n",
      "continue\n"
     ]
    }
   ],
   "source": [
    "\"\"\"\n",
    "Exception Handling\n",
    "\"\"\"\n",
    "\n",
    "x = 1\n",
    "try:\n",
    "    print(x)\n",
    "    print(z)\n",
    "\n",
    "except:\n",
    "    print('[error]')\n",
    "\n",
    "print('continue')"
   ]
  },
  {
   "cell_type": "code",
   "execution_count": null,
   "id": "0c6281ec-1bd7-4685-aece-41506becc114",
   "metadata": {},
   "outputs": [],
   "source": []
  }
 ],
 "metadata": {
  "kernelspec": {
   "display_name": "Python 3",
   "language": "python",
   "name": "python3"
  },
  "language_info": {
   "codemirror_mode": {
    "name": "ipython",
    "version": 3
   },
   "file_extension": ".py",
   "mimetype": "text/x-python",
   "name": "python",
   "nbconvert_exporter": "python",
   "pygments_lexer": "ipython3",
   "version": "3.8.8"
  }
 },
 "nbformat": 4,
 "nbformat_minor": 5
}
