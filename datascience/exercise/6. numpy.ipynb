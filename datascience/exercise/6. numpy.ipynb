{
 "cells": [
  {
   "cell_type": "code",
   "execution_count": 5,
   "id": "fa04ce50-dd53-4e66-a02c-0fd9ec94edc8",
   "metadata": {},
   "outputs": [],
   "source": [
    "import numpy as np\n",
    "import pandas as pd\n",
    "from matplotlib import pyplot as plt"
   ]
  },
  {
   "cell_type": "code",
   "execution_count": 10,
   "id": "4e75cf65-ca77-4ee0-85e5-65301963c8e3",
   "metadata": {},
   "outputs": [
    {
     "name": "stdout",
     "output_type": "stream",
     "text": [
      "['1.5' 'string' 'True' '4']\n"
     ]
    }
   ],
   "source": [
    "# Creating a Numpy Array\n",
    "lst = [1.5, \"string\", True, 4]\n",
    "\n",
    "arr = np.array(lst)\n",
    "print(arr)"
   ]
  },
  {
   "cell_type": "code",
   "execution_count": 12,
   "id": "54543084-3937-4796-a48c-f6eab21258ef",
   "metadata": {},
   "outputs": [
    {
     "name": "stdout",
     "output_type": "stream",
     "text": [
      "<U32\n"
     ]
    }
   ],
   "source": [
    "# .dtype attribute\n",
    "print(arr.dtype)"
   ]
  },
  {
   "cell_type": "code",
   "execution_count": 18,
   "id": "f18bc8ac-fb65-4bb3-85a9-d08b67434a5b",
   "metadata": {},
   "outputs": [
    {
     "name": "stdout",
     "output_type": "stream",
     "text": [
      "192\n",
      "172\n"
     ]
    }
   ],
   "source": [
    "\"\"\"\n",
    "Size Comparison of ndarray and list objects\n",
    "\"\"\"\n",
    "from sys import getsizeof\n",
    "\n",
    "lst = [1, 2, 3, 4, 5, 6, 7, 8, 9, 10, 11, 12, 13, 14, 15, 16, 17]\n",
    "print(getsizeof(lst))\n",
    "\n",
    "arr = np.array(lst)\n",
    "print(getsizeof(arr))"
   ]
  },
  {
   "cell_type": "code",
   "execution_count": 20,
   "id": "3c22d30e-790d-49b0-86ee-e3e99a2152f8",
   "metadata": {},
   "outputs": [
    {
     "name": "stdout",
     "output_type": "stream",
     "text": [
      "[25, 20, 35, 15, 15, 30, 45, 30]\n",
      "[25 20 35 15 15 30 45 30]\n"
     ]
    }
   ],
   "source": [
    "\"\"\"\n",
    "Operations with Numpy Arrays\n",
    "\"\"\"\n",
    "prices = [30, 25, 40, 20, 20, 35, 50, 35]\n",
    "\n",
    "# list\n",
    "new_prices = [price-5 for price in prices]\n",
    "print(new_prices)\n",
    "\n",
    "# numpy array\n",
    "prices_arr = np.array(prices)\n",
    "prices_arr = prices_arr - 5\n",
    "print(prices_arr)"
   ]
  },
  {
   "cell_type": "code",
   "execution_count": 48,
   "id": "eb4de3e3-028e-41c9-8af9-ac6b9f01b709",
   "metadata": {},
   "outputs": [
    {
     "name": "stdout",
     "output_type": "stream",
     "text": [
      "[260 281 248 276 272]\n",
      "[86.66666667 93.66666667 82.66666667 92.         90.66666667]\n",
      "93\n",
      "[94 88]\n",
      "[[ 92  94  88  91  87]\n",
      " [ 79 100  86  93  91]\n",
      " [ 89  87  74  92  94]]\n",
      "89\n",
      "[87 91 94]\n"
     ]
    }
   ],
   "source": [
    "\"\"\"\n",
    "실습 문제 : 시험 점수 처리\n",
    "\"\"\"\n",
    "test_1 = np.array([92, 94, 88, 91, 87])\n",
    "test_2 = np.array([79, 100, 86, 93, 91])\n",
    "test_3 = np.array([87, 85, 72, 90, 92])\n",
    "\n",
    "test_3_fixed = test_3 + 2\n",
    "\n",
    "total_grade = test_1 + test_2 + test_3_fixed\n",
    "print(total_grade)\n",
    "\n",
    "final_grade = total_grade / 3\n",
    "print(final_grade)\n",
    "\n",
    "jeremy_test_2 = test_2[3]\n",
    "print(jeremy_test_2)\n",
    "\n",
    "manual_adwoa_test_1 = np.array([test_1[1], test_1[2]])\n",
    "print(manual_adwoa_test_1)\n",
    "\n",
    "student_scores = np.array([test_1, test_2, test_3_fixed])\n",
    "print(student_scores)\n",
    "\n",
    "print(student_scores[2][0])\n",
    "\n",
    "print(student_scores[:, 4])"
   ]
  },
  {
   "cell_type": "code",
   "execution_count": 54,
   "id": "350a39de-9490-4960-96fa-656de9f17adb",
   "metadata": {},
   "outputs": [
    {
     "name": "stdout",
     "output_type": "stream",
     "text": [
      "[ True False False False False False  True  True  True  True]\n",
      "[10  9  8  9  7]\n",
      "[10  2  2  3  9  8  9  7]\n"
     ]
    }
   ],
   "source": [
    "\"\"\"\n",
    "Logical Operations with Arrays\n",
    "\"\"\"\n",
    "#masking\n",
    "a = np.array([10, 2, 2, 4, 5, 3, 9, 8, 9, 7])\n",
    "mask = a > 5\n",
    "print(mask)\n",
    "\n",
    "# select using Logical operation\n",
    "selected = a[a > 5]\n",
    "print(selected)\n",
    "\n",
    "# combined Logical operations | &\n",
    "selected = a[(a > 6) | (a < 4)]\n",
    "print(selected)"
   ]
  },
  {
   "cell_type": "code",
   "execution_count": 57,
   "id": "f66406a0-4fd6-4af2-8b9b-68602ee4080b",
   "metadata": {},
   "outputs": [
    {
     "name": "stdout",
     "output_type": "stream",
     "text": [
      "[50]\n",
      "[79 65 63 56 90 85 98 79 51]\n"
     ]
    }
   ],
   "source": [
    "\"\"\"\n",
    "실습 문제 : 골디락스 포리지(죽) 페스티벌\n",
    "\"\"\"\n",
    "porridge = np.array([79, 65, 50, 63, 56, 90, 85, 98, 79, 51])\n",
    "\n",
    "cold = porridge[porridge <= 50]\n",
    "hot = porridge[porridge > 50]\n",
    "\n",
    "print(cold)\n",
    "print(hot)"
   ]
  }
 ],
 "metadata": {
  "kernelspec": {
   "display_name": "Python 3",
   "language": "python",
   "name": "python3"
  },
  "language_info": {
   "codemirror_mode": {
    "name": "ipython",
    "version": 3
   },
   "file_extension": ".py",
   "mimetype": "text/x-python",
   "name": "python",
   "nbconvert_exporter": "python",
   "pygments_lexer": "ipython3",
   "version": "3.8.8"
  }
 },
 "nbformat": 4,
 "nbformat_minor": 5
}
