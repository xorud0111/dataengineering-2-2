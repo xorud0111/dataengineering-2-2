{
 "cells": [
  {
   "cell_type": "code",
   "execution_count": 5,
   "id": "705885c1-4b0d-40d2-a11b-702802d7c1ce",
   "metadata": {},
   "outputs": [
    {
     "name": "stdout",
     "output_type": "stream",
     "text": [
      "[2, 3, 5, 7, 11, 2]\n",
      "[]\n"
     ]
    }
   ],
   "source": [
    "\"\"\"\n",
    "Lists\n",
    "\"\"\"\n",
    "primes = [2, 3, 5, 7, 11, 2]\n",
    "print(primes)\n",
    "\n",
    "empty_list = []\n",
    "print(empty_list)"
   ]
  },
  {
   "cell_type": "code",
   "execution_count": 9,
   "id": "b9b04c5e-ebcf-44f7-ad70-21f7f6578545",
   "metadata": {},
   "outputs": [
    {
     "name": "stdout",
     "output_type": "stream",
     "text": [
      "['jenny', 1, 1.4, True]\n",
      "[[1, 2], [2, 'a'], ['b', 3]]\n"
     ]
    }
   ],
   "source": [
    "\"\"\"\n",
    "Multiple different data types\n",
    "\"\"\"\n",
    "mixed = [\"jenny\", 1 , 1.4, True]\n",
    "print(mixed)\n",
    "list_of_list = [[1,2], [2,'a'], ['b',3]]\n",
    "print(list_of_list)"
   ]
  },
  {
   "cell_type": "code",
   "execution_count": 12,
   "id": "9254d444-5e6b-425b-8a90-0aa4150ae2b3",
   "metadata": {},
   "outputs": [
    {
     "name": "stdout",
     "output_type": "stream",
     "text": [
      "['Roger', 'Rafael', 'Andy', 'Novak']\n",
      "Roger\n",
      "Rafael\n",
      "Andy\n",
      "Novak\n",
      "Novak\n",
      "Andy\n",
      "Rafael\n",
      "Roger\n"
     ]
    }
   ],
   "source": [
    "\"\"\"\n",
    "Zero-indexing\n",
    "\"\"\"\n",
    "names = ['Roger', 'Rafael', 'Andy', 'Novak']\n",
    "print(names)\n",
    "print(names[0])\n",
    "print(names[1])\n",
    "print(names[2])\n",
    "print(names[3])"
   ]
  },
  {
   "cell_type": "code",
   "execution_count": 14,
   "id": "9d091ee5-89eb-45bf-ba08-e6fa2039aefe",
   "metadata": {},
   "outputs": [
    {
     "name": "stdout",
     "output_type": "stream",
     "text": [
      "Novak\n",
      "Andy\n",
      "Rafael\n",
      "Roger\n"
     ]
    }
   ],
   "source": [
    "\"\"\"\n",
    "Negative indexing\n",
    "\"\"\"\n",
    "print(names[-1])\n",
    "print(names[-2])\n",
    "print(names[-3])\n",
    "print(names[-4])"
   ]
  },
  {
   "cell_type": "code",
   "execution_count": 25,
   "id": "219f93d8-d989-4058-ada5-3b6f16036da9",
   "metadata": {},
   "outputs": [
    {
     "name": "stdout",
     "output_type": "stream",
     "text": [
      "['장공관', '필헌관', '소통관', '송암관']\n",
      "['생활관', '장공관', '필헌관', '소통관']\n"
     ]
    }
   ],
   "source": [
    "\"\"\"\n",
    "List slicing\n",
    "\"\"\"\n",
    "hsu_buildings = ['만우관', '장공관', '필헌관', '소통관', '송암관',\n",
    "                 '늦봄관', '장준하통일관']\n",
    "buildings_slice = hsu_buildings[:4]\n",
    "buildings_slice[0] = '생활관'\n",
    "\n",
    "print(hsu_buildings[1:5])\n",
    "print(buildings_slice)"
   ]
  },
  {
   "cell_type": "code",
   "execution_count": 34,
   "id": "528d2285-19af-490f-b0b8-9d6172002d3f",
   "metadata": {},
   "outputs": [
    {
     "name": "stdout",
     "output_type": "stream",
     "text": [
      "[['해우리', '한식', '고s'], ['짜장명가', '중식', '중화비빔밥'], ['찌개동아리', '한식', '제육전골'], ['맘스터치', '양식', '싸이버거']]\n",
      "['해우리', '한식', '해우라면']\n"
     ]
    }
   ],
   "source": [
    "\"\"\"\n",
    "Multi-dimensional Lists\n",
    "\"\"\"\n",
    "restaurants = [['해우리', '한식', '고s'], ['짜장명가', '중식', '중화비빔밥'],\n",
    "               ['찌개동아리', '한식', '제육전골'], ['맘스터치', '양식', '싸이버거']]\n",
    "\n",
    "print(restaurants)\n",
    "restaurants[0][2] = '해우라면'\n",
    "print(restaurants[0])"
   ]
  },
  {
   "cell_type": "code",
   "execution_count": 37,
   "id": "3884955e-809f-4507-8814-37de86e28583",
   "metadata": {},
   "outputs": [
    {
     "name": "stdout",
     "output_type": "stream",
     "text": [
      "['cake', 'cookie', 'bread', 'biscuit', 'tart']\n"
     ]
    }
   ],
   "source": [
    "\"\"\"\n",
    "Adding List Together\n",
    "\"\"\"\n",
    "items_one = ['cake', 'cookie', 'bread']\n",
    "items_two = ['biscuit', 'tart']\n",
    "\n",
    "total_items = items_one + items_two\n",
    "\n",
    "print(total_items)"
   ]
  },
  {
   "cell_type": "code",
   "execution_count": 56,
   "id": "e7db2a5a-f549-45d3-b6b9-c87373721d8a",
   "metadata": {},
   "outputs": [
    {
     "name": "stdout",
     "output_type": "stream",
     "text": [
      "5\n",
      "2\n",
      "['daisies', 'periwnkle', 'tulips']\n",
      "['Karla', 'Maxium', 'vikor', 'Martin', 'Isabella']\n",
      "['C', 'Calculus', 'D.S', 'M.L']\n",
      "['C', 'Calculus', 'M.L']\n",
      "[1, 2, 4, 6]\n",
      "['늦봄관', '만우관', '소통관', '송암관', '장공관', '장준하통일관', '필헌관']\n"
     ]
    }
   ],
   "source": [
    "\"\"\"\n",
    "Useful Method for Lists\n",
    "\"\"\"\n",
    "knapsack = [2, 4, 3, 5, 10]\n",
    "size = len(knapsack)\n",
    "print(size)\n",
    "\n",
    "backpack = ['pencil', 'pencil', 'book', 'notebook']\n",
    "print(backpack.count('pencil'))\n",
    "\n",
    "orders = ['daisies', 'periwnkle']\n",
    "orders.append('tulips')\n",
    "print(orders)\n",
    "\n",
    "store_line = ['Karla', \"Maxium\", 'Martin', 'Isabella']\n",
    "store_line.insert(2,'vikor')\n",
    "print(store_line)\n",
    "\n",
    "sw_subjects = ['C', 'Calculus', 'D.E', 'D.S', 'M.L']\n",
    "sw_subjects.pop(2)\n",
    "print(sw_subjects)\n",
    "sw_subjects.remove('D.S')\n",
    "print(sw_subjects)\n",
    "\n",
    "numbers = [4, 6, 2, 1]\n",
    "numbers.sort()\n",
    "print(numbers)\n",
    "\n",
    "hsu_buildings = ['만우관', '장공관', '필헌관', '소통관', '송암관',\n",
    "                 '늦봄관', '장준하통일관']\n",
    "hsu_buildings.sort()\n",
    "print(hsu_buildings)\n",
    "\n"
   ]
  }
 ],
 "metadata": {
  "kernelspec": {
   "display_name": "Python 3",
   "language": "python",
   "name": "python3"
  },
  "language_info": {
   "codemirror_mode": {
    "name": "ipython",
    "version": 3
   },
   "file_extension": ".py",
   "mimetype": "text/x-python",
   "name": "python",
   "nbconvert_exporter": "python",
   "pygments_lexer": "ipython3",
   "version": "3.8.8"
  }
 },
 "nbformat": 4,
 "nbformat_minor": 5
}
