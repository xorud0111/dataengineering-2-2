{
 "cells": [
  {
   "cell_type": "code",
   "execution_count": 9,
   "id": "fa047674-1fd3-4f67-8dcc-d8566f89d31e",
   "metadata": {},
   "outputs": [
    {
     "name": "stdout",
     "output_type": "stream",
     "text": [
      "['쌍', '쇠', '복', '돌', '팽', '육', '쌍', '개', '칠', '갑', '삼', '방']\n",
      "['봉', '구', '욕', '포', '똥', '삼', '식', '석', '놈', '님', '년', '돌', '단', '득', '방', '질', '장', '걸', '래', '룡', '동', '순', '자', '박', '창', '언', '것', '포', '만', '단', '국']\n",
      "당신의 조선시대 이름은 김쇠방 입니다.\n"
     ]
    }
   ],
   "source": [
    "\"\"\"\n",
    "나의 조선시대 이름 찾기\n",
    "\"\"\"\n",
    "name_of_month = ['쌍', '쇠', '복', '돌', '팽', '육', '쌍', '개', '칠',\n",
    "                 '갑','삼', '방']\n",
    "print(name_of_month)\n",
    "\n",
    "name_of_day = ['봉', '구', '욕', '포', '똥', '삼', '식', '석', '놈',\n",
    "               '님', '년', '돌','단', '득', '방', '질', '장', '걸', \n",
    "               '래', '룡', '동', '순', '자', '박','창', '언', '것', \n",
    "               '포', '만', '단', '국']\n",
    "print(name_of_day)\n",
    "\n",
    "def get_my_chosun_name(family_name, month, day):\n",
    "    return family_name + name_of_month[month-1] + name_of_day[day-1]\n",
    "\n",
    "print(\"당신의 조선시대 이름은 \" + get_my_chosun_name('김', 2, 15) +\n",
    "      \" 입니다.\")"
   ]
  }
 ],
 "metadata": {
  "kernelspec": {
   "display_name": "Python 3",
   "language": "python",
   "name": "python3"
  },
  "language_info": {
   "codemirror_mode": {
    "name": "ipython",
    "version": 3
   },
   "file_extension": ".py",
   "mimetype": "text/x-python",
   "name": "python",
   "nbconvert_exporter": "python",
   "pygments_lexer": "ipython3",
   "version": "3.8.8"
  }
 },
 "nbformat": 4,
 "nbformat_minor": 5
}
